{
 "cells": [
  {
   "cell_type": "code",
   "execution_count": 2,
   "metadata": {},
   "outputs": [],
   "source": [
    "# Importación de librerías\n",
    "import numpy as np\n",
    "import matplotlib.pyplot as plt\n",
    "import pandas as pd\n",
    "\n",
    "# Cargar versión limpia de base_train\n",
    "base_train = pd.read_csv('./train/train_clean.csv')\n",
    "# Re ordernar columnas\n",
    "train = base_train[['PassengerId', 'Pclass_1', 'Pclass_2', 'Pclass_3', 'Age', 'Fare', 'Embarked_Cherbourg', 'Embarked_Queenstown', 'Embarked_Southampton', 'Alone', 'Small', 'Medium', 'Large', 'Female', 'Male', 'FemaleAge2', 'MaleAge6']]\n",
    "\n",
    "# Cargar versión limpia de base_test\n",
    "base_test = pd.read_csv('./test/test_clean.csv')\n",
    "# Re ordenar columnas\n",
    "base_test = base_test[['PassengerId', 'Pclass_1', 'Pclass_2', 'Pclass_3', 'Age', 'Fare', 'Embarked_Cherbourg', 'Embarked_Queenstown', 'Embarked_Southampton', 'Alone', 'Small', 'Medium', 'Large', 'Female', 'Male', 'FemaleAge2', 'MaleAge6']]\n",
    "\n",
    "# Cargar test_results\n",
    "test_results = pd.read_csv('gender_submission.csv')\n",
    "\n",
    "# Merge de base_test y test_results\n",
    "test = pd.merge(base_test, test_results, on='PassengerId')"
   ]
  },
  {
   "cell_type": "markdown",
   "metadata": {},
   "source": [
    "# Generación de archivos por selección"
   ]
  },
  {
   "cell_type": "code",
   "execution_count": 8,
   "metadata": {},
   "outputs": [
    {
     "name": "stdout",
     "output_type": "stream",
     "text": [
      "Cantidad de columnas: 12\n"
     ]
    }
   ],
   "source": [
    "#Selección de columnas para el csv a generar\n",
    "columnas_necesarias = ['Pclass_1', 'Pclass_2', 'Pclass_3', 'Age', 'Fare', 'Embarked_Cherbourg', 'Embarked_Queenstown', 'Embarked_Southampton', 'Alone', 'Small', 'Medium', 'Large', 'Female', 'Male', 'FemaleAge2', 'MaleAge6']\n",
    "numCols = len(columnas_necesarias)\n",
    "\n",
    "# Imprimir cantidad de columnas\n",
    "print('Cantidad de columnas:', len(columnas_necesarias))"
   ]
  },
  {
   "cell_type": "code",
   "execution_count": null,
   "metadata": {},
   "outputs": [],
   "source": [
    "# Características de la base_train\n",
    "caracteristicas = 'MaleGroupSize' # Redactar brevemente las base_trains del documento que estás generando\n",
    "\n",
    "# Creación de csv con las columnas necesarias\n",
    "base_train[columnas_necesarias].to_csv(f'/train/train_{numCols}_{caracteristicas}.csv', index=False)\n",
    "test[columnas_necesarias].to_csv(f'/test/test_{numCols}_{caracteristicas}.csv', index=False)"
   ]
  },
  {
   "cell_type": "markdown",
   "metadata": {},
   "source": [
    "---\n",
    "# Generación de archivos por extracción"
   ]
  },
  {
   "cell_type": "code",
   "execution_count": 7,
   "metadata": {},
   "outputs": [
    {
     "name": "stdout",
     "output_type": "stream",
     "text": [
      "Cantidad de columnas finales: 10\n"
     ]
    }
   ],
   "source": [
    "# Seleccionar comunas a remover del csv\n",
    "columnas_a_remover = ['PassengerId','Embarked_Cherbourg', 'Embarked_Queenstown', 'Embarked_Southampton']\n",
    "\n",
    "# Imprimir cantidad de columnas finales\n",
    "print('Cantidad de columnas finales:', len(train.columns) - len(columnas_a_remover))"
   ]
  },
  {
   "cell_type": "code",
   "execution_count": null,
   "metadata": {},
   "outputs": [],
   "source": [
    "# Características de la base_train\n",
    "caracteristicas = 'MaleGroupSize' # Redactar brevemente las base_trains del documento que estás generando\n",
    "\n",
    "# Creación de csv con las columnas necesarias\n",
    "base_train[columnas_necesarias].to_csv(f'/train/train_{numCols}_{caracteristicas}.csv', index=False)\n",
    "test[columnas_necesarias].to_csv(f'/test/test_{numCols}_{caracteristicas}.csv', index=False)"
   ]
  }
 ],
 "metadata": {
  "kernelspec": {
   "display_name": "Python 3",
   "language": "python",
   "name": "python3"
  },
  "language_info": {
   "codemirror_mode": {
    "name": "ipython",
    "version": 3
   },
   "file_extension": ".py",
   "mimetype": "text/x-python",
   "name": "python",
   "nbconvert_exporter": "python",
   "pygments_lexer": "ipython3",
   "version": "3.11.2"
  }
 },
 "nbformat": 4,
 "nbformat_minor": 2
}
