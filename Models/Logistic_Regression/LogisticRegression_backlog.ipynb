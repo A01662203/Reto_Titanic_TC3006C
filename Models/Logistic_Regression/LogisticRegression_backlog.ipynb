{
 "cells": [
  {
   "cell_type": "code",
   "execution_count": null,
   "metadata": {},
   "outputs": [],
   "source": [
    "# Logistic Regression Model\n",
    "logreg = LogisticRegression()\n",
    "x_train = train.drop('Survived', axis=1)\n",
    "y_train = train['Survived']\n",
    "logreg.fit(x_train, y_train)\n",
    "\n",
    "# Predict\n",
    "x_test = test.drop('Survived', axis=1)\n",
    "y_test = test['Survived']\n",
    "\n",
    "y_pred = logreg.predict(x_test)\n",
    "\n",
    "# Accuracy and precision\n",
    "accuracy = accuracy_score(y_test, y_pred)\n",
    "precision = precision_score(y_test, y_pred)\n",
    "recall = recall_score(y_test, y_pred)\n",
    "f1 = f1_score(y_test, y_pred)\n",
    "print(f'Accuracy: {accuracy.round(2)*100}%')\n",
    "print(f'Precision: {precision.round(2)*100}%')\n",
    "print(f'Recall: {recall.round(2)*100}%')\n",
    "print(f'F1 Score: {f1.round(2)*100}%')\n",
    "\n",
    "# Confusion Matrix plot\n",
    "confusion_matrix_1 = confusion_matrix(y_test, y_pred)\n",
    "sns.heatmap(confusion_matrix_1, annot=True, fmt='d')\n",
    "plt.xlabel('Predicted')\n",
    "plt.ylabel('Actual')\n",
    "plt.show()"
   ]
  }
 ],
 "metadata": {
  "language_info": {
   "name": "python"
  }
 },
 "nbformat": 4,
 "nbformat_minor": 2
}
