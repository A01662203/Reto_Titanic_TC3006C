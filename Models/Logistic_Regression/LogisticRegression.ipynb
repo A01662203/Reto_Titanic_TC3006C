{
 "cells": [
  {
   "cell_type": "markdown",
   "metadata": {},
   "source": [
    "# Regresión logística"
   ]
  },
  {
   "cell_type": "code",
   "execution_count": 3,
   "metadata": {},
   "outputs": [
    {
     "name": "stdout",
     "output_type": "stream",
     "text": [
      "Index(['Age', 'Fare', 'Embarked_Cherbourg', 'Embarked_Queenstown',\n",
      "       'Embarked_Southampton', 'Alone', 'Large', 'Medium', 'Small', 'Female',\n",
      "       'Male', 'Pclass_1', 'Pclass_2', 'Pclass_3', 'FemaleAge2', 'MaleAge6'],\n",
      "      dtype='object')\n",
      "✓ Ambos datasets tienen la misma cantidad de columnas\n"
     ]
    }
   ],
   "source": [
    "import os.path\n",
    "os.chdir('c:\\\\Users\\\\aesca\\\\Documents\\\\TEC\\\\Académico\\\\7mo semestre\\\\Reto_Titanic_TC3006C\\\\')\n",
    "import numpy as np\n",
    "import pandas as pd\n",
    "import seaborn as sns\n",
    "import matplotlib.pyplot as plt\n",
    "from sklearn.model_selection import GridSearchCV\n",
    "from sklearn.linear_model import LogisticRegression\n",
    "from sklearn.metrics import confusion_matrix, accuracy_score, precision_score\n",
    "from sklearn.model_selection import train_test_split\n",
    "import warnings\n",
    "warnings.filterwarnings('ignore')\n",
    "\n",
    "# Load train data using os path\n",
    "# train = pd.read_csv('./data/train_clean.csv')\n",
    "train = pd.read_csv('./data/train/train_clean.csv')\n",
    "# Load test data\n",
    "test = pd.read_csv('./data/test/test_clean.csv')\n",
    "\n",
    "# Drop the columns that are not needed in the train dataset\n",
    "x_train = train.drop('Survived', axis=1)\n",
    "y_train = train['Survived']\n",
    "\n",
    "# Drop the columns that are not needed in the test dataset\n",
    "x_test = test.drop('Survived', axis=1)\n",
    "y_test = test['Survived']\n",
    "\n",
    "# # Drop 'Age' column\n",
    "# x_train = x_train.drop('Age', axis=1)\n",
    "# x_test = x_test.drop('Age', axis=1)\n",
    "\n",
    "# Drop 'PassengerId' column\n",
    "x_train = x_train.drop('PassengerId', axis=1)\n",
    "x_test = x_test.drop('PassengerId', axis=1)\n",
    "\n",
    "# Print cols of each train and test dataset\n",
    "print(x_train.columns)\n",
    "if len(x_train.columns) == len(x_test.columns):\n",
    "    print('✓ Ambos datasets tienen la misma cantidad de columnas')\n"
   ]
  },
  {
   "cell_type": "code",
   "execution_count": 4,
   "metadata": {},
   "outputs": [],
   "source": [
    "# Realizar la división (80% para entrenamiento y 20% para prueba)\n",
    "X_train, X_validation, Y_train, Y_validation = train_test_split(x_train, y_train, test_size=0.2, random_state=42)"
   ]
  },
  {
   "cell_type": "code",
   "execution_count": 5,
   "metadata": {},
   "outputs": [
    {
     "name": "stdout",
     "output_type": "stream",
     "text": [
      "Best parameters: {'C': 1.0, 'penalty': 'l1'}\n",
      "True Positive: 207\n",
      "False Positive: 63\n",
      "True Negative: 377\n",
      "False Negative: 64\n",
      "Precision: 77.0%\n",
      "Accuracy: 82.0%\n",
      "Recall: 76.0%\n"
     ]
    }
   ],
   "source": [
    "# Use GridSearchCV to find best parameters\n",
    "param_grid = {\n",
    "    'C': [0.001, 0.01, 0.1, 1., 10.],\n",
    "    'penalty': ['l1', 'l2']\n",
    "}\n",
    "grid_search = GridSearchCV(LogisticRegression(class_weight='balanced', solver='liblinear'), param_grid, cv=5, scoring='precision')\n",
    "grid_search.fit(X_train, Y_train)\n",
    "print(f'Best parameters: {grid_search.best_params_}')\n",
    "\n",
    "# Print True Positive, False Positive, True Negative, False Negative as variables\n",
    "y_pred = grid_search.predict(X_train)\n",
    "confusion_matrix_1 = confusion_matrix(Y_train, y_pred)\n",
    "print(f'True Positive: {confusion_matrix_1[1][1]}')\n",
    "print(f'False Positive: {confusion_matrix_1[0][1]}')\n",
    "print(f'True Negative: {confusion_matrix_1[0][0]}')\n",
    "print(f'False Negative: {confusion_matrix_1[1][0]}')\n",
    "print(f'Precision: {(precision_score(Y_train, y_pred).round(2))*100}%')\n",
    "print(f'Accuracy: {(accuracy_score(Y_train, y_pred).round(2))*100}%')\n",
    "print(f'Recall: {(confusion_matrix_1[1][1]/(confusion_matrix_1[1][1]+confusion_matrix_1[1][0])).round(2)*100}%')\n",
    "\n",
    "# Delete variable y_pred\n",
    "del y_pred"
   ]
  },
  {
   "cell_type": "code",
   "execution_count": 6,
   "metadata": {},
   "outputs": [
    {
     "name": "stdout",
     "output_type": "stream",
     "text": [
      "Precision: 71.0%\n",
      "Accuracy: 81.0%\n",
      "Recall: 87.0%\n",
      "True Positive: 60\n",
      "False Positive: 25\n",
      "True Negative: 84\n",
      "False Negative: 9\n"
     ]
    },
    {
     "data": {
      "image/png": "[encoded data removed]",
      "text/plain": [
       "<Figure size 640x480 with 2 Axes>"
      ]
     },
     "metadata": {},
     "output_type": "display_data"
    }
   ],
   "source": [
    "# Predict with best parameters\n",
    "y_pred_test = grid_search.predict(X_validation)\n",
    "precision = grid_search.score(X_validation, Y_validation)\n",
    "print(f'Precision: {precision.round(2)*100}%')\n",
    "accuracy = accuracy_score(Y_validation, y_pred_test)\n",
    "print(f'Accuracy: {accuracy.round(2)*100}%')\n",
    "recall = (confusion_matrix(Y_validation, y_pred_test)[1][1]/(confusion_matrix(Y_validation, y_pred_test)[1][1]+confusion_matrix(Y_validation, y_pred_test)[1][0])).round(2)*100\n",
    "print(f'Recall: {recall}%')\n",
    "\n",
    "\n",
    "# Confusion Matrix plot\n",
    "confusion_matrix_2 = confusion_matrix(Y_validation, y_pred_test)\n",
    "\n",
    "print(f'True Positive: {confusion_matrix_2[1][1]}')\n",
    "print(f'False Positive: {confusion_matrix_2[0][1]}')\n",
    "print(f'True Negative: {confusion_matrix_2[0][0]}')\n",
    "print(f'False Negative: {confusion_matrix_2[1][0]}')\n",
    "\n",
    "# Plot the confusion matrix\n",
    "sns.heatmap(confusion_matrix_2, annot=True, fmt='d')\n",
    "plt.xlabel('Predicción')\n",
    "plt.ylabel('Actual')\n",
    "plt.show()"
   ]
  },
  {
   "cell_type": "code",
   "execution_count": 7,
   "metadata": {},
   "outputs": [
    {
     "data": {
      "text/html": [
       "<div>\n",
       "<style scoped>\n",
       "    .dataframe tbody tr th:only-of-type {\n",
       "        vertical-align: middle;\n",
       "    }\n",
       "\n",
       "    .dataframe tbody tr th {\n",
       "        vertical-align: top;\n",
       "    }\n",
       "\n",
       "    .dataframe thead th {\n",
       "        text-align: right;\n",
       "    }\n",
       "</style>\n",
       "<table border=\"1\" class=\"dataframe\">\n",
       "  <thead>\n",
       "    <tr style=\"text-align: right;\">\n",
       "      <th></th>\n",
       "      <th>Age</th>\n",
       "      <th>Fare</th>\n",
       "      <th>Embarked_Cherbourg</th>\n",
       "      <th>Embarked_Queenstown</th>\n",
       "      <th>Embarked_Southampton</th>\n",
       "      <th>Alone</th>\n",
       "      <th>Large</th>\n",
       "      <th>Medium</th>\n",
       "      <th>Small</th>\n",
       "      <th>Female</th>\n",
       "      <th>Male</th>\n",
       "      <th>Pclass_1</th>\n",
       "      <th>Pclass_2</th>\n",
       "      <th>Pclass_3</th>\n",
       "      <th>FemaleAge2</th>\n",
       "      <th>MaleAge6</th>\n",
       "    </tr>\n",
       "  </thead>\n",
       "  <tbody>\n",
       "    <tr>\n",
       "      <th>0</th>\n",
       "      <td>-0.026224</td>\n",
       "      <td>0.003403</td>\n",
       "      <td>0.107423</td>\n",
       "      <td>0.0</td>\n",
       "      <td>-0.353895</td>\n",
       "      <td>0.930177</td>\n",
       "      <td>-1.368464</td>\n",
       "      <td>-1.648504</td>\n",
       "      <td>0.953607</td>\n",
       "      <td>2.062932</td>\n",
       "      <td>-0.742126</td>\n",
       "      <td>0.985321</td>\n",
       "      <td>0.0</td>\n",
       "      <td>-0.795068</td>\n",
       "      <td>0.0</td>\n",
       "      <td>2.318683</td>\n",
       "    </tr>\n",
       "  </tbody>\n",
       "</table>\n",
       "</div>"
      ],
      "text/plain": [
       "        Age      Fare  Embarked_Cherbourg  Embarked_Queenstown  \\\n",
       "0 -0.026224  0.003403            0.107423                  0.0   \n",
       "\n",
       "   Embarked_Southampton     Alone     Large    Medium     Small    Female  \\\n",
       "0             -0.353895  0.930177 -1.368464 -1.648504  0.953607  2.062932   \n",
       "\n",
       "       Male  Pclass_1  Pclass_2  Pclass_3  FemaleAge2  MaleAge6  \n",
       "0 -0.742126  0.985321       0.0 -0.795068         0.0  2.318683  "
      ]
     },
     "execution_count": 7,
     "metadata": {},
     "output_type": "execute_result"
    }
   ],
   "source": [
    "# Print model coefficients and the variable names to see which variables are important\n",
    "coef = grid_search.best_estimator_.coef_\n",
    "cols = x_train.columns\n",
    "# Combine the two arrays into a dataframe\n",
    "coef_df = pd.DataFrame(coef, columns=cols)\n",
    "coef_df"
   ]
  },
  {
   "cell_type": "code",
   "execution_count": 8,
   "metadata": {},
   "outputs": [],
   "source": [
    "# # Fill a model predict with a male with an age of 25 that paid 100 for the ticket, traveled in Pclass 1 and embarked from Cherbourg, it should have 9 features\n",
    "# print(grid_search.predict([[3, 32, 56, 0, 0, 1, 1, 0, 0, 0, 0, 1]]))"
   ]
  },
  {
   "cell_type": "code",
   "execution_count": 9,
   "metadata": {},
   "outputs": [],
   "source": [
    "# # Pclass = 1, male check if survived in train\n",
    "# variable = train[(train['Male'] == 1)&(train['Survived'] == 1)&(train['Pclass'] == 3) & (train['Alone'] == 1)]\n",
    "# print(len(variable))\n",
    "# variable"
   ]
  },
  {
   "cell_type": "code",
   "execution_count": 10,
   "metadata": {},
   "outputs": [],
   "source": [
    "# Run section only if 'titanic_tree.pdf' is not in the directory\n",
    "\n",
    "if not os.path.exists('titanic_tree.pdf'):\n",
    "    # Decision Tree Clasiifier with graphviz\n",
    "    from sklearn.tree import DecisionTreeClassifier\n",
    "    from sklearn.tree import export_graphviz\n",
    "    import graphviz\n",
    "\n",
    "    # Create a Decision Tree Classifier\n",
    "    clf = DecisionTreeClassifier(random_state=42)\n",
    "    clf.fit(x_train, y_train)\n",
    "\n",
    "    # Plot the tree with graphviz\n",
    "    dot_data = export_graphviz(clf, out_file=None, feature_names=x_train.columns, class_names=['Died', 'Survived'], filled=True, rounded=True, special_characters=True)\n",
    "    graph = graphviz.Source(dot_data)\n",
    "    graph.render('titanic_tree')\n",
    "    graph.view()"
   ]
  },
  {
   "cell_type": "code",
   "execution_count": 11,
   "metadata": {},
   "outputs": [
    {
     "data": {
      "text/plain": [
       "['logistic_regression.pkl']"
      ]
     },
     "execution_count": 11,
     "metadata": {},
     "output_type": "execute_result"
    }
   ],
   "source": [
    "import joblib\n",
    "\n",
    "# Save the model\n",
    "joblib.dump(grid_search, 'logistic_regression.pkl')"
   ]
  }
 ],
 "metadata": {
  "kernelspec": {
   "display_name": "Python 3",
   "language": "python",
   "name": "python3"
  },
  "language_info": {
   "codemirror_mode": {
    "name": "ipython",
    "version": 3
   },
   "file_extension": ".py",
   "mimetype": "text/x-python",
   "name": "python",
   "nbconvert_exporter": "python",
   "pygments_lexer": "ipython3",
   "version": "3.11.2"
  }
 },
 "nbformat": 4,
 "nbformat_minor": 2
}
