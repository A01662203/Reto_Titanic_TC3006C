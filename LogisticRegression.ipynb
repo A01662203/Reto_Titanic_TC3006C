{
 "cells": [
  {
   "cell_type": "markdown",
   "metadata": {},
   "source": [
    "# Regresión logística"
   ]
  },
  {
   "cell_type": "code",
   "execution_count": 114,
   "metadata": {},
   "outputs": [],
   "source": [
    "import pandas as pd\n",
    "import numpy as np\n",
    "import matplotlib.pyplot as plt\n",
    "import seaborn as sns\n",
    "from sklearn.linear_model import LogisticRegression\n",
    "from sklearn.metrics import confusion_matrix, classification_report, accuracy_score, precision_score, recall_score, f1_score\n",
    "import warnings\n",
    "warnings.filterwarnings('ignore')"
   ]
  },
  {
   "cell_type": "code",
   "execution_count": 115,
   "metadata": {},
   "outputs": [
    {
     "name": "stdout",
     "output_type": "stream",
     "text": [
      "Index(['PassengerId', 'Survived', 'Pclass', 'Age', 'Fare', 'Group_Size',\n",
      "       'Embarked_0', 'Embarked_1', 'Embarked_2', 'Sex_0', 'Sex_1'],\n",
      "      dtype='object')\n"
     ]
    }
   ],
   "source": [
    "# Load train data\n",
    "train = pd.read_csv('./data/train_clean.csv')\n",
    "# train = pd.read_csv('./data/train_clean_LR_2col.csv')\n",
    "# train = pd.read_csv('./data/train_clean_LR_First_GS.csv')\n",
    "test = pd.read_csv('./data/test_clean.csv')\n",
    "# test = pd.read_csv('./data/test_clean_LR_2col.csv')\n",
    "# test = pd.read_csv('./data/test_clean_LR_First_GS.csv')\n",
    "\n",
    "test_results = pd.read_csv('./data/gender_submission.csv')\n",
    "\n",
    "# Merge test results with test data where PassengerId is the same\n",
    "test = pd.merge(test, test_results, on='PassengerId')\n",
    "\n",
    "# Print the list of columns\n",
    "print(train.columns)\n",
    "\n",
    "# Drop 'PassengerId'\n",
    "train.drop('PassengerId', axis=1, inplace=True)\n",
    "test.drop('PassengerId', axis=1, inplace=True)"
   ]
  },
  {
   "cell_type": "code",
   "execution_count": 116,
   "metadata": {},
   "outputs": [
    {
     "name": "stdout",
     "output_type": "stream",
     "text": [
      "Index(['Pclass', 'Age', 'Fare', 'Group_Size', 'Embarked_0', 'Embarked_1',\n",
      "       'Embarked_2', 'Sex_0', 'Sex_1'],\n",
      "      dtype='object')\n",
      "Index(['Pclass', 'Age', 'Fare', 'Group_Size', 'Embarked_0', 'Embarked_1',\n",
      "       'Embarked_2', 'Sex_0', 'Sex_1'],\n",
      "      dtype='object')\n"
     ]
    }
   ],
   "source": [
    "# Drop the columns that are not needed in the train dataset\n",
    "x_train = train.drop('Survived', axis=1)\n",
    "y_train = train['Survived']\n",
    "print(x_train.columns)\n",
    "\n",
    "# Drop the columns that are not needed in the test dataset\n",
    "x_test = test.drop('Survived', axis=1)\n",
    "y_test = test['Survived']\n",
    "print(x_test.columns)"
   ]
  },
  {
   "cell_type": "code",
   "execution_count": 117,
   "metadata": {},
   "outputs": [
    {
     "name": "stdout",
     "output_type": "stream",
     "text": [
      "Best parameters: {'C': 0.3593813663804626, 'solver': 'lbfgs'}\n",
      "Best score: 0.7975369770837301\n"
     ]
    }
   ],
   "source": [
    "# Use GridSearchCV to find best parameters\n",
    "from sklearn.model_selection import GridSearchCV\n",
    "param_grid = {\n",
    "    'C': np.logspace(-4,4,10),\n",
    "    'solver': ['liblinear', 'newton-cg', 'lbfgs', 'sag', 'saga']\n",
    "}\n",
    "grid_search = GridSearchCV(LogisticRegression(), param_grid)\n",
    "grid_search.fit(x_train, y_train)\n",
    "print(f'Best parameters: {grid_search.best_params_}')\n",
    "print(f'Best score: {grid_search.best_score_}')"
   ]
  },
  {
   "cell_type": "code",
   "execution_count": 119,
   "metadata": {},
   "outputs": [
    {
     "name": "stdout",
     "output_type": "stream",
     "text": [
      "Accuracy: 93.0%\n",
      "Precision: 89.0%\n"
     ]
    },
    {
     "data": {
      "image/png": "[encoded data removed]",
      "text/plain": [
       "<Figure size 640x480 with 2 Axes>"
      ]
     },
     "metadata": {},
     "output_type": "display_data"
    }
   ],
   "source": [
    "# Predict with best parameters\n",
    "y_pred = grid_search.predict(x_test)\n",
    "accuracy = grid_search.score(x_test, y_test)\n",
    "precision = precision_score(y_test, y_pred)\n",
    "print(f'Accuracy: {accuracy.round(2)*100}%')\n",
    "print(f'Precision: {precision.round(2)*100}%')\n",
    "\n",
    "# Confusion Matrix plot\n",
    "confusion_matrix_2 = confusion_matrix(y_test, y_pred)\n",
    "\n",
    "# Plot the confusion matrix\n",
    "sns.heatmap(confusion_matrix_2, annot=True, fmt='d')\n",
    "plt.xlabel('Predicted')\n",
    "plt.ylabel('Actual')\n",
    "plt.show()"
   ]
  }
 ],
 "metadata": {
  "kernelspec": {
   "display_name": "Python 3",
   "language": "python",
   "name": "python3"
  },
  "language_info": {
   "codemirror_mode": {
    "name": "ipython",
    "version": 3
   },
   "file_extension": ".py",
   "mimetype": "text/x-python",
   "name": "python",
   "nbconvert_exporter": "python",
   "pygments_lexer": "ipython3",
   "version": "3.11.2"
  }
 },
 "nbformat": 4,
 "nbformat_minor": 2
}
