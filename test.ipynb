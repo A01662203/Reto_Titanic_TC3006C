{
 "cells": [
  {
   "cell_type": "code",
   "execution_count": 15,
   "metadata": {},
   "outputs": [
    {
     "name": "stdout",
     "output_type": "stream",
     "text": [
      "PassengerId    0\n",
      "Survived       0\n",
      "Age            0\n",
      "Name           0\n",
      "dtype: int64\n"
     ]
    }
   ],
   "source": [
    "import pandas as pd\n",
    "\n",
    "def complete_ages(df_train, df_test):\n",
    "    # Obtener el título de la columna nombre.\n",
    "    df_train['Title'] = df_train['Name'].str.extract(' ([A-Za-z]+)\\\\.', expand=False)\n",
    "\n",
    "    # Obtener la edad promedio para cada título extraido \n",
    "    average_age_per_title = df_train.groupby('Title')['Age'].mean()\n",
    "\n",
    "    # Llenar los valores que hacen falta en la columna de edad utilizando el promedio de edad dependiendo de el título utilizando tomando en cuenta la desviación estandar.\n",
    "    for title in average_age_per_title.index:\n",
    "        df_train.loc[(df_train['Age'].isnull()) & (df_train['Title'] == title), 'Age'] = average_age_per_title[title] + df_train['Age'].std()\n",
    "\n",
    "    # Redondear los valores correspondientes a la edad al int más cercano.\n",
    "    df_train['Age'] = df_train['Age'].round()\n",
    "    \n",
    "    # Repetir el mismo proceso en el dataset de test.\n",
    "    df_test['Title'] = df_test['Name'].str.extract(' ([A-Za-z]+)\\\\.', expand=False)\n",
    "    average_age_per_title_test = df_test.groupby('Title')['Age'].mean()\n",
    "    for title in average_age_per_title_test.index:\n",
    "        df_test.loc[(df_test['Age'].isnull()) & (df_test['Title'] == title), 'Age'] = average_age_per_title_test[title] + df_test['Age'].std()\n",
    "    df_test['Age'] = df_test['Age'].round()\n",
    "\n",
    "    # Repetir el proceso e el dataset de testeo utilizando el promedio de edades por título del dataset de entrenamiento.\n",
    "    for title in average_age_per_title.index:\n",
    "        df_test.loc[(df_test['Age'].isnull()) & (df_test['Title'] == title), 'Age'] = average_age_per_title[title] + df_test['Age'].std()\n",
    "    df_test['Age'] = df_test['Age'].round()\n",
    "\n",
    "    # Eliminar la columna de ¨Title¨ de ambos conjuntos de datos.\n",
    "    df_train = df_train.drop(columns=['Title'])\n",
    "    df_test = df_test.drop(columns=['Title'])\n",
    "\n",
    "    return df_train, df_test  \n",
    "\n",
    "# Load data/train.csv\n",
    "train = pd.read_csv('data/train.csv')\n",
    "\n",
    "# Load data/test.csv\n",
    "test = pd.read_csv('data/test.csv')\n",
    "\n",
    "# Complete missing ages\n",
    "train, test = complete_ages(train, test)\n",
    "\n",
    "# Load data/sample_submission.csv\n",
    "gender_submission = pd.read_csv('data/gender_submission.csv')\n",
    "\n",
    "# Merge test and sample_submission with PassengerId\n",
    "test = test.merge(gender_submission, on='PassengerId')\n",
    "\n",
    "# Combine train and test\n",
    "data = pd.concat([train, test], sort=False)\n",
    "\n",
    "# Remove \"\" from 'Name' column\n",
    "data['Name'] = data['Name'].str.replace('\"', '')\n",
    "\n",
    "# Round age to int\n",
    "data['Age'] = data['Age'].round()\n",
    "\n",
    "# Make age column int\n",
    "data['Age'] = data['Age'].astype(int)\n",
    "\n",
    "# Only keep 'PassengerId', 'Survived', 'Age', 'Name'\n",
    "data = data[['PassengerId', 'Survived', 'Age', 'Name']]\n",
    "\n",
    "# Check nans in data\n",
    "print(data.isnull().sum())\n",
    "\n",
    "# Export data to data/all_data.csv\n",
    "data.to_csv('data/all_data.csv', index=False)\n",
    "\n",
    "# Export "
   ]
  }
 ],
 "metadata": {
  "kernelspec": {
   "display_name": "Python 3",
   "language": "python",
   "name": "python3"
  },
  "language_info": {
   "codemirror_mode": {
    "name": "ipython",
    "version": 3
   },
   "file_extension": ".py",
   "mimetype": "text/x-python",
   "name": "python",
   "nbconvert_exporter": "python",
   "pygments_lexer": "ipython3",
   "version": "3.11.2"
  }
 },
 "nbformat": 4,
 "nbformat_minor": 2
}
