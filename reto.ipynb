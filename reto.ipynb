{
 "cells": [
  {
   "cell_type": "markdown",
   "metadata": {},
   "source": [
    "# Reto Titanic\n",
    "### Materia: TC3006C"
   ]
  },
  {
   "cell_type": "code",
   "execution_count": 95,
   "metadata": {},
   "outputs": [],
   "source": [
    "import pandas as pd\n",
    "import seaborn as sns\n",
    "import matplotlib.pyplot as plt"
   ]
  },
  {
   "cell_type": "code",
   "execution_count": null,
   "metadata": {},
   "outputs": [],
   "source": [
    "# Open test.csv and count the number of rows\n",
    "df_test = pd.read_csv('./data/test.csv')\n",
    "print(df_test.shape[0])\n",
    "# Open train.csv and count the number of rows\n",
    "df_train = pd.read_csv('./data/train.csv')\n",
    "print(df_train.shape[0])"
   ]
  },
  {
   "cell_type": "code",
   "execution_count": 81,
   "metadata": {},
   "outputs": [
    {
     "name": "stdout",
     "output_type": "stream",
     "text": [
      "Passengers that survived: 342 and the ones that did not: 549\n",
      "****************************************\n",
      "Males that survived: 109 and the ones that did not: 468\n",
      "****************************************\n",
      "females that survived: 233 and the ones that did not: 81\n"
     ]
    }
   ],
   "source": [
    "# Print amount of survived and not survived passengers\n",
    "# Print the amount of passengers that survived and not survived\n",
    "survival_counts = df_train.groupby('Survived').size()\n",
    "print(f'Passengers that survived: {survival_counts[1]} and the ones that did not: {survival_counts[0]}')\n",
    "print('*'*40)\n",
    "\n",
    "# Filter the dataset to include only men\n",
    "men = df_train[df_train['Sex'] == 'male']\n",
    "# Group by 'Survived' and count the number of men who survived and not survived\n",
    "men_survival_counts = men.groupby('Survived').size()\n",
    "print(f'Males that survived: {men_survival_counts[1]} and the ones that did not: {men_survival_counts[0]}')\n",
    "print('*'*40)\n",
    "female = df_train[df_train['Sex'] == 'female']\n",
    "female_survival_counts = female.groupby('Survived').size()\n",
    "print(f'females that survived: {female_survival_counts[1]} and the ones that did not: {female_survival_counts[0]}')"
   ]
  },
  {
   "cell_type": "markdown",
   "metadata": {},
   "source": [
    "---\n",
    "## Análisis Exploratorio de Datos"
   ]
  },
  {
   "cell_type": "code",
   "execution_count": 70,
   "metadata": {},
   "outputs": [
    {
     "name": "stdout",
     "output_type": "stream",
     "text": [
      "PassengerId     0.000000\n",
      "Survived        0.000000\n",
      "Pclass          0.000000\n",
      "Name            0.000000\n",
      "Sex             0.000000\n",
      "Age            19.865320\n",
      "SibSp           0.000000\n",
      "Parch           0.000000\n",
      "Ticket          0.000000\n",
      "Fare            0.000000\n",
      "Cabin          77.104377\n",
      "Embarked        0.224467\n",
      "dtype: float64\n"
     ]
    }
   ],
   "source": [
    "# Get missing percentage per column in df_train\n",
    "missing_values = df_train.isnull().mean() * 100\n",
    "print(missing_values)"
   ]
  },
  {
   "cell_type": "markdown",
   "metadata": {},
   "source": [
    "---"
   ]
  },
  {
   "cell_type": "markdown",
   "metadata": {},
   "source": [
    "# Ticket information feature engineering"
   ]
  },
  {
   "cell_type": "code",
   "execution_count": 71,
   "metadata": {},
   "outputs": [],
   "source": [
    "df_train['Ticket'] = df_train['Ticket'].replace('LINE', 'LINE 0')\n",
    "df_test['Ticket'] = df_test['Ticket'].replace('LINE', 'LINE 0')\n",
    "\n",
    "# Parse Ticket feature\n",
    "df_train['Ticket'] = df_train['Ticket'].apply(lambda x: x.replace('.','').replace('/','').lower())\n",
    "def get_prefix(ticket):\n",
    "    lead = ticket.split(' ')[0][0]\n",
    "    if lead.isalpha():\n",
    "        return ticket.split(' ')[0]\n",
    "    else:\n",
    "        return 'NoPrefix'\n",
    "    \n",
    "df_train['TicketPrefix'] = df_train['Ticket'].apply(lambda x: get_prefix(x))\n",
    "\n",
    "# Separate all ticket components\n",
    "df_train['Ticket_Number'] = df_train['Ticket'].apply(lambda x: int(x.split(' ')[-1])//1)\n",
    "df_train['Ticket_Length'] = df_train['Ticket_Number'].apply(lambda x : len(str(x)))\n",
    "df_train['Ticket_FirstDigit'] = df_train['Ticket_Number'].apply(lambda x : int(str(x)[0]))\n",
    "df_train['Ticket_Group'] = df_train['Ticket'].apply(lambda x: str(int(x.split(' ')[-1])//10))\n",
    "\n",
    "# Apply al separations for test data\n",
    "df_test['Ticket'] = df_test['Ticket'].apply(lambda x: x.replace('.','').replace('/','').lower())\n",
    "df_test['TicketPrefix'] = df_test['Ticket'].apply(lambda x: get_prefix(x))\n",
    "df_test['Ticket_Number'] = df_test['Ticket'].apply(lambda x: int(x.split(' ')[-1])//1)\n",
    "df_test['Ticket_Length'] = df_test['Ticket_Number'].apply(lambda x : len(str(x)))\n",
    "df_test['Ticket_FirstDigit'] = df_test['Ticket_Number'].apply(lambda x : int(str(x)[0]))\n",
    "df_test['Ticket_Group'] = df_test['Ticket'].apply(lambda x: str(int(x.split(' ')[-1])//10))\n",
    "\n",
    "# Drop Ticket, Ticket_Number, Ticket_Length\n",
    "df_train = df_train.drop(columns=['Ticket', 'Ticket_Number', 'Ticket_Length'])\n",
    "df_test = df_test.drop(columns=['Ticket', 'Ticket_Number', 'Ticket_Length'])"
   ]
  },
  {
   "cell_type": "code",
   "execution_count": 72,
   "metadata": {},
   "outputs": [
    {
     "data": {
      "text/html": [
       "<div>\n",
       "<style scoped>\n",
       "    .dataframe tbody tr th:only-of-type {\n",
       "        vertical-align: middle;\n",
       "    }\n",
       "\n",
       "    .dataframe tbody tr th {\n",
       "        vertical-align: top;\n",
       "    }\n",
       "\n",
       "    .dataframe thead th {\n",
       "        text-align: right;\n",
       "    }\n",
       "</style>\n",
       "<table border=\"1\" class=\"dataframe\">\n",
       "  <thead>\n",
       "    <tr style=\"text-align: right;\">\n",
       "      <th>Ticket_FirstDigit</th>\n",
       "      <th>0</th>\n",
       "      <th>1</th>\n",
       "      <th>2</th>\n",
       "      <th>3</th>\n",
       "      <th>4</th>\n",
       "      <th>5</th>\n",
       "      <th>6</th>\n",
       "      <th>7</th>\n",
       "      <th>8</th>\n",
       "      <th>9</th>\n",
       "      <th>All</th>\n",
       "    </tr>\n",
       "    <tr>\n",
       "      <th>Pclass</th>\n",
       "      <th></th>\n",
       "      <th></th>\n",
       "      <th></th>\n",
       "      <th></th>\n",
       "      <th></th>\n",
       "      <th></th>\n",
       "      <th></th>\n",
       "      <th></th>\n",
       "      <th></th>\n",
       "      <th></th>\n",
       "      <th></th>\n",
       "    </tr>\n",
       "  </thead>\n",
       "  <tbody>\n",
       "    <tr>\n",
       "      <th>1</th>\n",
       "      <td>0</td>\n",
       "      <td>192</td>\n",
       "      <td>4</td>\n",
       "      <td>14</td>\n",
       "      <td>0</td>\n",
       "      <td>4</td>\n",
       "      <td>2</td>\n",
       "      <td>0</td>\n",
       "      <td>0</td>\n",
       "      <td>0</td>\n",
       "      <td>216</td>\n",
       "    </tr>\n",
       "    <tr>\n",
       "      <th>2</th>\n",
       "      <td>0</td>\n",
       "      <td>22</td>\n",
       "      <td>136</td>\n",
       "      <td>23</td>\n",
       "      <td>0</td>\n",
       "      <td>1</td>\n",
       "      <td>0</td>\n",
       "      <td>2</td>\n",
       "      <td>0</td>\n",
       "      <td>0</td>\n",
       "      <td>184</td>\n",
       "    </tr>\n",
       "    <tr>\n",
       "      <th>3</th>\n",
       "      <td>4</td>\n",
       "      <td>17</td>\n",
       "      <td>90</td>\n",
       "      <td>330</td>\n",
       "      <td>15</td>\n",
       "      <td>4</td>\n",
       "      <td>12</td>\n",
       "      <td>13</td>\n",
       "      <td>3</td>\n",
       "      <td>3</td>\n",
       "      <td>491</td>\n",
       "    </tr>\n",
       "    <tr>\n",
       "      <th>All</th>\n",
       "      <td>4</td>\n",
       "      <td>231</td>\n",
       "      <td>230</td>\n",
       "      <td>367</td>\n",
       "      <td>15</td>\n",
       "      <td>9</td>\n",
       "      <td>14</td>\n",
       "      <td>15</td>\n",
       "      <td>3</td>\n",
       "      <td>3</td>\n",
       "      <td>891</td>\n",
       "    </tr>\n",
       "  </tbody>\n",
       "</table>\n",
       "</div>"
      ],
      "text/plain": [
       "Ticket_FirstDigit  0    1    2    3   4  5   6   7  8  9  All\n",
       "Pclass                                                       \n",
       "1                  0  192    4   14   0  4   2   0  0  0  216\n",
       "2                  0   22  136   23   0  1   0   2  0  0  184\n",
       "3                  4   17   90  330  15  4  12  13  3  3  491\n",
       "All                4  231  230  367  15  9  14  15  3  3  891"
      ]
     },
     "execution_count": 72,
     "metadata": {},
     "output_type": "execute_result"
    }
   ],
   "source": [
    "pd.crosstab(df_train['Pclass'],df_train['Ticket_FirstDigit'],margins=True)"
   ]
  },
  {
   "cell_type": "code",
   "execution_count": 73,
   "metadata": {},
   "outputs": [
    {
     "name": "stdout",
     "output_type": "stream",
     "text": [
      "['a5' 'pc' 'stono2' 'NoPrefix' 'pp' 'ca' 'scparis' 'sca4' 'a4' 'sp' 'soc'\n",
      " 'wc' 'sotonoq' 'wep' 'stono' 'c' 'sop' 'fa' 'line' 'fcc' 'swpp' 'scow'\n",
      " 'ppp' 'sc' 'scah' 'as' 'sopp' 'fc' 'sotono2' 'casoton']\n"
     ]
    }
   ],
   "source": [
    "# Print the unique 'Prefix' in df_train\n",
    "print(df_train['TicketPrefix'].unique())"
   ]
  },
  {
   "cell_type": "code",
   "execution_count": 74,
   "metadata": {},
   "outputs": [
    {
     "name": "stdout",
     "output_type": "stream",
     "text": [
      "NoPrefix    661\n",
      "pc           60\n",
      "ca           41\n",
      "a5           21\n",
      "sotonoq      15\n",
      "stono        12\n",
      "scparis      11\n",
      "wc           10\n",
      "a4            7\n",
      "stono2        6\n",
      "soc           6\n",
      "fcc           5\n",
      "c             5\n",
      "line          4\n",
      "wep           3\n",
      "scah          3\n",
      "sopp          3\n",
      "pp            3\n",
      "sotono2       2\n",
      "swpp          2\n",
      "ppp           2\n",
      "fc            1\n",
      "as            1\n",
      "scow          1\n",
      "sc            1\n",
      "sp            1\n",
      "fa            1\n",
      "sop           1\n",
      "sca4          1\n",
      "casoton       1\n",
      "Name: TicketPrefix, dtype: int64\n"
     ]
    }
   ],
   "source": [
    "# Count the frequency of each 'Prefix' in df_train\n",
    "print(df_train['TicketPrefix'].value_counts())"
   ]
  },
  {
   "cell_type": "markdown",
   "metadata": {},
   "source": [
    "---\n",
    "# Drop cabin column due to the high number of missing values"
   ]
  },
  {
   "cell_type": "code",
   "execution_count": 75,
   "metadata": {},
   "outputs": [
    {
     "name": "stdout",
     "output_type": "stream",
     "text": [
      "Train dataset\n",
      "PassengerId           0.000000\n",
      "Survived              0.000000\n",
      "Pclass                0.000000\n",
      "Name                  0.000000\n",
      "Sex                   0.000000\n",
      "Age                  19.865320\n",
      "SibSp                 0.000000\n",
      "Parch                 0.000000\n",
      "Fare                  0.000000\n",
      "Embarked              0.224467\n",
      "TicketPrefix          0.000000\n",
      "Ticket_FirstDigit     0.000000\n",
      "Ticket_Group          0.000000\n",
      "dtype: float64\n",
      "**************************************************\n",
      "Test dataset\n",
      "PassengerId           0.000000\n",
      "Pclass                0.000000\n",
      "Name                  0.000000\n",
      "Sex                   0.000000\n",
      "Age                  20.574163\n",
      "SibSp                 0.000000\n",
      "Parch                 0.000000\n",
      "Fare                  0.239234\n",
      "Embarked              0.000000\n",
      "TicketPrefix          0.000000\n",
      "Ticket_FirstDigit     0.000000\n",
      "Ticket_Group          0.000000\n",
      "dtype: float64\n"
     ]
    }
   ],
   "source": [
    "# Drop cabin column\n",
    "df_train = df_train.drop(columns=['Cabin'])\n",
    "df_test = df_test.drop(columns=['Cabin'])\n",
    "# Count the number of missing values in the df_train dataset\n",
    "print(\"Train dataset\")\n",
    "missing_values = df_train.isnull().mean() * 100\n",
    "print(missing_values)\n",
    "print(\"*\"*50)\n",
    "print(\"Test dataset\")\n",
    "missing_values = df_test.isnull().mean() * 100\n",
    "print(missing_values)"
   ]
  },
  {
   "cell_type": "code",
   "execution_count": 76,
   "metadata": {},
   "outputs": [],
   "source": [
    "# Generate a df of the df['Sex'] == 'male' and df['Survived'] == 1 \n",
    "male_survived = df_train[df_train['Sex'] == 'male']\n",
    "female_survived = df_train[df_train['Sex'] == 'female']"
   ]
  },
  {
   "cell_type": "code",
   "execution_count": 77,
   "metadata": {},
   "outputs": [
    {
     "name": "stdout",
     "output_type": "stream",
     "text": [
      "PassengerId          0.000000\n",
      "Survived             0.000000\n",
      "Pclass               0.000000\n",
      "Name                 0.000000\n",
      "Sex                  0.000000\n",
      "Age                  0.000000\n",
      "SibSp                0.000000\n",
      "Parch                0.000000\n",
      "Fare                 0.000000\n",
      "Embarked             0.224467\n",
      "TicketPrefix         0.000000\n",
      "Ticket_FirstDigit    0.000000\n",
      "Ticket_Group         0.000000\n",
      "Title                0.000000\n",
      "dtype: float64\n"
     ]
    }
   ],
   "source": [
    "# Separate title from name column\n",
    "df_train['Title'] = df_train['Name'].str.extract('([A-Za-z]+)\\.', expand=True)\n",
    "df_test['Title'] = df_test['Name'].str.extract('([A-Za-z]+)\\.', expand=True)\n",
    "\n",
    "# For every title, obtain the mean of the age\n",
    "title_mean_age = df_train.groupby('Title')['Age'].mean()\n",
    "\n",
    "# Fill missing values in Age column with the mean of the title plus one standard deviation\n",
    "for title, mean_age in title_mean_age.items():\n",
    "    df_train.loc[(df_train['Age'].isnull()) & (df_train['Title'] == title), 'Age'] = mean_age + title_mean_age.std()\n",
    "    df_test.loc[(df_test['Age'].isnull()) & (df_test['Title'] == title), 'Age'] = mean_age + title_mean_age.std()\n",
    "\n",
    "# Round the age column to the nearest integer\n",
    "df_train['Age'] = df_train['Age'].round()\n",
    "df_test['Age'] = df_test['Age'].round()\n",
    "\n",
    "# Count the number of missing values in the df_train dataset\n",
    "missing_values = df_train.isnull().mean() * 100\n",
    "print(missing_values)"
   ]
  },
  {
   "cell_type": "markdown",
   "metadata": {},
   "source": [
    "---"
   ]
  },
  {
   "cell_type": "markdown",
   "metadata": {},
   "source": [
    "# Grupos SOLO, SMALL, MEDIUM, LARGE"
   ]
  },
  {
   "cell_type": "code",
   "execution_count": 97,
   "metadata": {},
   "outputs": [
    {
     "ename": "NameError",
     "evalue": "name 'df_' is not defined",
     "output_type": "error",
     "traceback": [
      "\u001b[1;31m---------------------------------------------------------------------------\u001b[0m",
      "\u001b[1;31mNameError\u001b[0m                                 Traceback (most recent call last)",
      "Cell \u001b[1;32mIn[97], line 28\u001b[0m\n\u001b[0;32m     25\u001b[0m df_test[\u001b[38;5;124m'\u001b[39m\u001b[38;5;124mGroup_Size\u001b[39m\u001b[38;5;124m'\u001b[39m] \u001b[38;5;241m=\u001b[39m Family_Size_Ts\n\u001b[0;32m     26\u001b[0m df_train[\u001b[38;5;124m'\u001b[39m\u001b[38;5;124mGroup_Size\u001b[39m\u001b[38;5;124m'\u001b[39m] \u001b[38;5;241m=\u001b[39m Family_Size_Tr\n\u001b[1;32m---> 28\u001b[0m \u001b[43mdf_\u001b[49m\u001b[38;5;66;03m#test.head()\u001b[39;00m\n\u001b[0;32m     30\u001b[0m df_te\u001b[38;5;66;03m#st['Group_Size',].hist()\u001b[39;00m\n\u001b[0;32m     31\u001b[0m plt\u001b[38;5;241m.\u001b[39msh\u001b[38;5;66;03m#ow()\u001b[39;00m\n",
      "\u001b[1;31mNameError\u001b[0m: name 'df_' is not defined"
     ]
    }
   ],
   "source": [
    "Family_Count_Tr  = df_train['SibSp'] + df_train['Parch'] + 1\n",
    "Family_Count_Ts  = df_test['SibSp'] + df_train['Parch'] + 1\n",
    "\n",
    "def categorize_family_size(family_count):\n",
    "    if family_count == 1:\n",
    "        return 'ALONE'\n",
    "    elif family_count in [2, 3, 4]:\n",
    "        return 'SMALL'\n",
    "    elif family_count in [5, 6]:\n",
    "        return 'MEDIUM'\n",
    "    elif family_count in [7, 8, 11]:\n",
    "        return 'LARGE'\n",
    "    else:\n",
    "        return 'UNKNOWN'  # In case there are other sizes not covered\n",
    "\n",
    "# Apply the function to create a new column\n",
    "Family_Size_Tr= Family_Count_Tr .apply(categorize_family_size)\n",
    "Family_Size_Ts= Family_Count_Ts.apply(categorize_family_size)\n",
    "\n",
    "# Display the DataFrame with the new column\n",
    "#print(Family_Size_Tr)\n",
    "\n",
    "# Make a piovvottable grouped by the family size to analiz\n",
    "\n",
    "df_test['Group_Size'] = Family_Size_Ts\n",
    "df_train['Group_Size'] = Family_Size_Tr\n",
    "\n",
    "df_test.head()\n",
    "\n",
    "df_test['Group_Size',].hist()\n",
    "plt.show()\n",
    "\n",
    "\n",
    "# Create a figure and axis\n",
    "plt.figure(figsize=(10, 6))\n",
    "\n",
    "# Plot a histogram for the 'Survived' column grouped by 'Group_Size'\n",
    "sns.histplot(data=df_train, x='Group_Size', hue='Survived', multiple='dodge', shrink=0.8)\n",
    "\n",
    "# Set the title and labels\n",
    "plt.title('Survival Distribution by Family Group Size')\n",
    "plt.xlabel('Family Group Size')\n",
    "plt.ylabel('Count')\n",
    "\n",
    "# Show the plot\n",
    "plt.show()"
   ]
  },
  {
   "cell_type": "markdown",
   "metadata": {},
   "source": [
    "---"
   ]
  },
  {
   "cell_type": "markdown",
   "metadata": {},
   "source": [
    "### Drop embarked rows with missing values"
   ]
  },
  {
   "cell_type": "code",
   "execution_count": null,
   "metadata": {},
   "outputs": [
    {
     "name": "stdout",
     "output_type": "stream",
     "text": [
      "Train dataset\n",
      "PassengerId          0.0\n",
      "Survived             0.0\n",
      "Pclass               0.0\n",
      "Name                 0.0\n",
      "Sex                  0.0\n",
      "Age                  0.0\n",
      "SibSp                0.0\n",
      "Parch                0.0\n",
      "Fare                 0.0\n",
      "Embarked             0.0\n",
      "TicketPrefix         0.0\n",
      "Ticket_FirstDigit    0.0\n",
      "Ticket_Group         0.0\n",
      "Title                0.0\n",
      "dtype: float64\n",
      "**************************************************\n",
      "Test dataset\n",
      "PassengerId          0.000000\n",
      "Pclass               0.000000\n",
      "Name                 0.000000\n",
      "Sex                  0.000000\n",
      "Age                  0.000000\n",
      "SibSp                0.000000\n",
      "Parch                0.000000\n",
      "Fare                 0.239234\n",
      "Embarked             0.000000\n",
      "TicketPrefix         0.000000\n",
      "Ticket_FirstDigit    0.000000\n",
      "Ticket_Group         0.000000\n",
      "Title                0.000000\n",
      "dtype: float64\n"
     ]
    }
   ],
   "source": [
    "# Drop embarked rows with missing values\n",
    "df_train = df_train.dropna(subset=['Embarked'])\n",
    "\n",
    "# Count the number of missing values in the df_train dataset\n",
    "print(\"Train dataset\")\n",
    "missing_values = df_train.isnull().mean() * 100\n",
    "print(missing_values)\n",
    "print(\"*\"*50)\n",
    "print(\"Test dataset\")\n",
    "missing_values = df_test.isnull().mean() * 100\n",
    "print(missing_values)"
   ]
  },
  {
   "cell_type": "markdown",
   "metadata": {},
   "source": [
    "---\n",
    "### Drop rows with missing values in Fare column"
   ]
  },
  {
   "cell_type": "code",
   "execution_count": null,
   "metadata": {},
   "outputs": [
    {
     "name": "stdout",
     "output_type": "stream",
     "text": [
      "Train dataset\n",
      "PassengerId          0.0\n",
      "Survived             0.0\n",
      "Pclass               0.0\n",
      "Name                 0.0\n",
      "Sex                  0.0\n",
      "Age                  0.0\n",
      "SibSp                0.0\n",
      "Parch                0.0\n",
      "Fare                 0.0\n",
      "Embarked             0.0\n",
      "TicketPrefix         0.0\n",
      "Ticket_FirstDigit    0.0\n",
      "Ticket_Group         0.0\n",
      "Title                0.0\n",
      "dtype: float64\n",
      "**************************************************\n",
      "Test dataset\n",
      "PassengerId          0.0\n",
      "Pclass               0.0\n",
      "Name                 0.0\n",
      "Sex                  0.0\n",
      "Age                  0.0\n",
      "SibSp                0.0\n",
      "Parch                0.0\n",
      "Fare                 0.0\n",
      "Embarked             0.0\n",
      "TicketPrefix         0.0\n",
      "Ticket_FirstDigit    0.0\n",
      "Ticket_Group         0.0\n",
      "Title                0.0\n",
      "dtype: float64\n"
     ]
    }
   ],
   "source": [
    "# Drop rows with missing values in Fare column\n",
    "df_test = df_test.dropna(subset=['Fare'])\n",
    "\n",
    "# Count the number of missing values in the df_train dataset\n",
    "print(\"Train dataset\")\n",
    "missing_values = df_train.isnull().mean() * 100\n",
    "print(missing_values)\n",
    "print(\"*\"*50)\n",
    "print(\"Test dataset\")\n",
    "missing_values = df_test.isnull().mean() * 100\n",
    "print(missing_values)"
   ]
  },
  {
   "cell_type": "code",
   "execution_count": null,
   "metadata": {},
   "outputs": [],
   "source": [
    "# # Drop Ticket column\n",
    "# df_train = df_train.drop(columns=['Ticket'])\n",
    "# df_test = df_test.drop(columns=['Ticket'])"
   ]
  },
  {
   "cell_type": "markdown",
   "metadata": {},
   "source": [
    "---"
   ]
  },
  {
   "cell_type": "markdown",
   "metadata": {},
   "source": [
    "### "
   ]
  },
  {
   "cell_type": "markdown",
   "metadata": {},
   "source": [
    "## Segment by age of passengers and using pivot tables to analyze the survival rate"
   ]
  },
  {
   "cell_type": "code",
   "execution_count": null,
   "metadata": {},
   "outputs": [],
   "source": [
    "# Segment by age in intervals of 5 of passengers and using pivot tables to analyze the survival rate\n",
    "age_bins = [0, 5, 10, 15, 20, 25, 30, 35, 40, 45, 50, 55, 60, 65, 70, 75, 80, 85]\n",
    "age_labels = ['0-4', '5-9', '10-14', '15-19', '20-24', '25-29', '30-34', '35-39', '40-44', '45-49', '50-54', '55-59', '60-64', '65-69', '70-74', '75-79', '80+']\n",
    "\n",
    "df_train['AgeGroup'] = pd.cut(df_train['Age'], bins=age_bins, labels=age_labels)\n",
    "df_test['AgeGroup'] = pd.cut(df_test['Age'], bins=age_bins, labels=age_labels)\n"
   ]
  },
  {
   "cell_type": "code",
   "execution_count": null,
   "metadata": {},
   "outputs": [
    {
     "name": "stdout",
     "output_type": "stream",
     "text": [
      "AgeGroup       0-4       5-9     10-14      15-19      20-24      25-29  \\\n",
      "Sex                                                                       \n",
      "female    6.730769  3.205128  3.846154  10.897436  14.423077  11.858974   \n",
      "male      3.819444  1.736111  1.215278  11.631944  13.194444  12.673611   \n",
      "\n",
      "AgeGroup     30-34      35-39     40-44      45-49     50-54     55-59  \\\n",
      "Sex                                                                      \n",
      "female    9.294872  19.230769  5.769231   4.166667  8.012821  1.923077   \n",
      "male      9.895833   7.638889  4.687500  25.173611  2.777778  2.256944   \n",
      "\n",
      "AgeGroup     60-64     65-69     70-74     75-79  80+  \n",
      "Sex                                                    \n",
      "female    0.641026  0.000000  0.000000  0.000000  0.0  \n",
      "male      1.909722  0.694444  0.520833  0.173611  0.0  \n"
     ]
    }
   ],
   "source": [
    "# Paso 1: Contar las ocurrencias conjuntas de Group Age y Sex\n",
    "joint_counts = df_train.groupby(['Sex', 'AgeGroup']).size().unstack(fill_value=0)\n",
    "\n",
    "# Paso 2: Calcular la probabilidad condicional P(Group Age | Sex)\n",
    "conditional_probabilities = joint_counts.div(joint_counts.sum(axis=1), axis=0)\n",
    "print(conditional_probabilities*100)"
   ]
  },
  {
   "cell_type": "code",
   "execution_count": null,
   "metadata": {},
   "outputs": [],
   "source": [
    "# Generar una columna donde sea el ['AgeGroup'] y el ['Sex'] en una sola columna\n",
    "df_train['AgeGroup_Sex'] = df_train['AgeGroup'].astype(str) + '_' + df_train['Sex']\n",
    "df_test['AgeGroup_Sex'] = df_test['AgeGroup'].astype(str) + '_' + df_test['Sex']\n"
   ]
  },
  {
   "cell_type": "code",
   "execution_count": null,
   "metadata": {},
   "outputs": [
    {
     "name": "stdout",
     "output_type": "stream",
     "text": [
      "Sex     AgeGroup\n",
      "female  0-4          76.190476\n",
      "        5-9          30.000000\n",
      "        10-14        75.000000\n",
      "        15-19        73.529412\n",
      "        20-24        75.555556\n",
      "        25-29        72.972973\n",
      "        30-34        89.655172\n",
      "        35-39        68.333333\n",
      "        40-44        61.111111\n",
      "        45-49        76.923077\n",
      "        50-54        88.000000\n",
      "        55-59        83.333333\n",
      "        60-64       100.000000\n",
      "        65-69              NaN\n",
      "        70-74              NaN\n",
      "        75-79              NaN\n",
      "        80+                NaN\n",
      "male    0-4          63.636364\n",
      "        5-9          40.000000\n",
      "        10-14        28.571429\n",
      "        15-19        14.925373\n",
      "        20-24        10.526316\n",
      "        25-29        20.547945\n",
      "        30-34        26.315789\n",
      "        35-39        18.181818\n",
      "        40-44        22.222222\n",
      "        45-49        13.793103\n",
      "        50-54        12.500000\n",
      "        55-59        15.384615\n",
      "        60-64         9.090909\n",
      "        65-69         0.000000\n",
      "        70-74         0.000000\n",
      "        75-79       100.000000\n",
      "        80+                NaN\n",
      "dtype: float64\n"
     ]
    }
   ],
   "source": [
    "# Paso 1: Contar las ocurrencias conjuntas de Sex, Group Age y Survived\n",
    "joint_counts_survived = df_train.groupby(['Sex', 'AgeGroup', 'Survived']).size().unstack(fill_value=0)\n",
    "\n",
    "# Paso 2: Calcular la probabilidad condicional P(Survived = 1 | Sex, Group Age)\n",
    "survived_counts = joint_counts_survived[1]\n",
    "conditional_probabilities_survived = survived_counts.div(joint_counts_survived.sum(axis=1))\n",
    "print(conditional_probabilities_survived*100)"
   ]
  },
  {
   "cell_type": "code",
   "execution_count": null,
   "metadata": {},
   "outputs": [],
   "source": [
    "# Generate df['Surname'] column from df['Name'] until comma example: Braund, Mr. Owen Harris -> Braund\n",
    "df_train['Surname'] = df_train['Name'].str.extract('([A-Za-z]+),', expand=True)"
   ]
  },
  {
   "cell_type": "code",
   "execution_count": null,
   "metadata": {},
   "outputs": [
    {
     "data": {
      "text/plain": [
       "count           889\n",
       "unique          664\n",
       "top       Andersson\n",
       "freq              9\n",
       "Name: Surname, dtype: object"
      ]
     },
     "execution_count": 34,
     "metadata": {},
     "output_type": "execute_result"
    }
   ],
   "source": [
    "df_train['Surname'].describe()"
   ]
  },
  {
   "cell_type": "code",
   "execution_count": null,
   "metadata": {},
   "outputs": [],
   "source": [
    "# When df['Surname'] appears more than once, it is considered a family and from the family depending on the df_train['age_group'] generate an extra column called ''"
   ]
  },
  {
   "cell_type": "code",
   "execution_count": null,
   "metadata": {},
   "outputs": [
    {
     "ename": "IndexError",
     "evalue": "index 2 is out of bounds for axis 0 with size 2",
     "output_type": "error",
     "traceback": [
      "\u001b[1;31m---------------------------------------------------------------------------\u001b[0m",
      "\u001b[1;31mIndexError\u001b[0m                                Traceback (most recent call last)",
      "Cell \u001b[1;32mIn[37], line 10\u001b[0m\n\u001b[0;32m      8\u001b[0m     \u001b[38;5;66;03m# Survival rate by column\u001b[39;00m\n\u001b[0;32m      9\u001b[0m     pivot[\u001b[38;5;124m'\u001b[39m\u001b[38;5;124mSurvival Rate\u001b[39m\u001b[38;5;124m'\u001b[39m] \u001b[38;5;241m=\u001b[39m pivot[\u001b[38;5;241m1\u001b[39m] \u001b[38;5;241m/\u001b[39m (pivot[\u001b[38;5;241m0\u001b[39m] \u001b[38;5;241m+\u001b[39m pivot[\u001b[38;5;241m1\u001b[39m])\n\u001b[1;32m---> 10\u001b[0m     pivot[\u001b[38;5;124m'\u001b[39m\u001b[38;5;124mSurvival Rate\u001b[39m\u001b[38;5;124m'\u001b[39m]\u001b[38;5;241m.\u001b[39mplot(kind\u001b[38;5;241m=\u001b[39m\u001b[38;5;124m'\u001b[39m\u001b[38;5;124mbar\u001b[39m\u001b[38;5;124m'\u001b[39m, ax\u001b[38;5;241m=\u001b[39m\u001b[43maxs\u001b[49m\u001b[43m[\u001b[49m\u001b[43mi\u001b[49m\u001b[38;5;241;43m/\u001b[39;49m\u001b[38;5;241;43m/\u001b[39;49m\u001b[38;5;241;43m3\u001b[39;49m\u001b[43m,\u001b[49m\u001b[43m \u001b[49m\u001b[43mi\u001b[49m\u001b[38;5;241;43m%\u001b[39;49m\u001b[38;5;241;43m3\u001b[39;49m\u001b[43m]\u001b[49m, color\u001b[38;5;241m=\u001b[39m\u001b[38;5;124m'\u001b[39m\u001b[38;5;124mskyblue\u001b[39m\u001b[38;5;124m'\u001b[39m)\n\u001b[0;32m     12\u001b[0m plt\u001b[38;5;241m.\u001b[39mtight_layout()\n\u001b[0;32m     13\u001b[0m plt\u001b[38;5;241m.\u001b[39mshow()\n",
      "\u001b[1;31mIndexError\u001b[0m: index 2 is out of bounds for axis 0 with size 2"
     ]
    },
    {
     "data": {
      "image/png": "[encoded data removed]",
      "text/plain": [
       "<Figure size 1500x1000 with 6 Axes>"
      ]
     },
     "metadata": {},
     "output_type": "display_data"
    }
   ],
   "source": [
    "# Make a subplot of every column in df_train as index for the pivot table\n",
    "df_train_analisis = df_train.drop(columns=['PassengerId', 'Name', 'Age','Survived', 'Fare', 'TicketPrefix', ])\n",
    "fig, axs = plt.subplots(2, 3, figsize=(15, 10))\n",
    "fig.suptitle('Survival Rate characteristics of Male passengers')\n",
    "\n",
    "for i, col in enumerate(df_train_analisis.columns):\n",
    "    pivot = df_train.pivot_table(index=col, columns='Survived', aggfunc='size', fill_value=0)\n",
    "    # Survival rate by column\n",
    "    pivot['Survival Rate'] = pivot[1] / (pivot[0] + pivot[1])\n",
    "    pivot['Survival Rate'].plot(kind='bar', ax=axs[i//3, i%3], color='skyblue')\n",
    "\n",
    "plt.tight_layout()\n",
    "plt.show()"
   ]
  },
  {
   "cell_type": "code",
   "execution_count": null,
   "metadata": {},
   "outputs": [],
   "source": [
    "# Make a subplot of every column in df_train as index for the pivot table\n",
    "df_train_analisis = male_survived.drop(columns=['PassengerId', 'Name', 'Ticket', 'Age','Survived', 'Fare', 'Sex'])\n",
    "fig, axs = plt.subplots(2, 3, figsize=(15, 10))\n",
    "fig.suptitle('Survival Rate characteristics of Male passengers')\n",
    "\n",
    "for i, col in enumerate(df_train_analisis.columns):\n",
    "    pivot = male_survived.pivot_table(index=col, columns='Survived', aggfunc='size', fill_value=0)\n",
    "    # Survival rate by column\n",
    "    pivot['Survival Rate'] = pivot[1] / (pivot[0] + pivot[1])\n",
    "    pivot['Survival Rate'].plot(kind='bar', ax=axs[i//3, i%3], color='skyblue')\n",
    "\n",
    "plt.tight_layout()\n",
    "plt.show()\n",
    "\n",
    "\n",
    "# #Visuization: \n",
    "# pivot_class_survived = df_train.pivot_table(index='Embarked', columns='Survived', aggfunc='size', fill_value=0)\n",
    "\n",
    "# #Survival rate by class\n",
    "# pivot_class_survived['Survival Rate'] = pivot_class_survived[1] / (pivot_class_survived[0] + pivot_class_survived[1])\n",
    "# print(pivot_class_survived)\n",
    "\n",
    "# # Plotting the survival rate by class\n",
    "# pivot_class_survived['Survival Rate'].plot(kind='bar', color='skyblue')\n",
    "# plt.ylabel('Survival Rate')\n",
    "# plt.title('Survival Rate by Passenger Class')\n",
    "# plt.show()"
   ]
  },
  {
   "cell_type": "code",
   "execution_count": null,
   "metadata": {},
   "outputs": [],
   "source": [
    "# Make a subplot of every column in df_train as index for the pivot table\n",
    "df_train_analisis = female_survived.drop(columns=['PassengerId', 'Name', 'Ticket', 'Age', 'Fare', 'Survived', 'Sex'])\n",
    "fig, axs = plt.subplots(2, 3, figsize=(15, 10))\n",
    "fig.suptitle('Survival Rate characteristics of Female passengers')\n",
    "\n",
    "for i, col in enumerate(df_train_analisis.columns):\n",
    "    pivot = female_survived.pivot_table(index=col, columns='Survived', aggfunc='size', fill_value=0)\n",
    "    # Survival rate by column\n",
    "    pivot['Survival Rate'] = pivot[1] / (pivot[0] + pivot[1])\n",
    "    pivot['Survival Rate'].plot(kind='bar', ax=axs[i//3, i%3], color='skyblue')\n",
    "\n",
    "plt.tight_layout()\n",
    "plt.show()\n"
   ]
  },
  {
   "cell_type": "code",
   "execution_count": null,
   "metadata": {},
   "outputs": [],
   "source": [
    "df_train.columns"
   ]
  },
  {
   "cell_type": "code",
   "execution_count": null,
   "metadata": {},
   "outputs": [],
   "source": [
    "# Filtrar los pasajeros que sobrevivieron\n",
    "survived = df_train[df_train['Survived'] == 1]\n",
    "\n",
    "# Crear el histograma directamente para 'Fare' de los que sobrevivieron\n",
    "plt.hist(df_train['Survived'], bins=10, edgecolor='black')\n",
    "\n",
    "# Añadir títulos y etiquetas\n",
    "plt.title('Histograma de Fare para Pasajeros Sobrevivientes')\n",
    "plt.xlabel('Tarifa (Fare)')\n",
    "plt.ylabel('Cantidad de Sobrevivientes')\n",
    "\n",
    "# Mostrar el gráfico\n",
    "plt.show()"
   ]
  },
  {
   "cell_type": "code",
   "execution_count": null,
   "metadata": {},
   "outputs": [],
   "source": [
    "df_train['Fare'].describe()"
   ]
  },
  {
   "cell_type": "code",
   "execution_count": null,
   "metadata": {},
   "outputs": [],
   "source": [
    "# Graph fare distribution\n",
    "df_train['Fare'].plot(kind='hist', bins=100, edgecolor='black')\n",
    "plt.title('Fare Distribution')\n",
    "plt.xlabel('Fare')\n",
    "plt.ylabel('Frequency')\n",
    "plt.show()\n",
    "\n",
    "# Show the id of the passenger who paid the most\n",
    "print(df_train.loc[df_train['Fare'].idxmax()])"
   ]
  }
 ],
 "metadata": {
  "kernelspec": {
   "display_name": "Python 3",
   "language": "python",
   "name": "python3"
  },
  "language_info": {
   "codemirror_mode": {
    "name": "ipython",
    "version": 3
   },
   "file_extension": ".py",
   "mimetype": "text/x-python",
   "name": "python",
   "nbconvert_exporter": "python",
   "pygments_lexer": "ipython3",
   "version": "3.11.2"
  }
 },
 "nbformat": 4,
 "nbformat_minor": 2
}
