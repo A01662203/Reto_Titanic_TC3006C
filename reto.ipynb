{
 "cells": [
  {
   "cell_type": "markdown",
   "metadata": {},
   "source": [
    "# Reto Titanic\n",
    "### Materia: TC3006C"
   ]
  },
  {
   "cell_type": "code",
   "execution_count": 443,
   "metadata": {},
   "outputs": [],
   "source": [
    "import pandas as pd\n",
    "import seaborn as sns\n",
    "import matplotlib.pyplot as plt"
   ]
  },
  {
   "cell_type": "code",
   "execution_count": 444,
   "metadata": {},
   "outputs": [
    {
     "name": "stdout",
     "output_type": "stream",
     "text": [
      "418\n",
      "891\n"
     ]
    }
   ],
   "source": [
    "# Open test.csv and count the number of rows\n",
    "df_test = pd.read_csv('./data/test.csv')\n",
    "print(df_test.shape[0])\n",
    "# Open train.csv and count the number of rows\n",
    "df_train = pd.read_csv('./data/train.csv')\n",
    "print(df_train.shape[0])"
   ]
  },
  {
   "cell_type": "code",
   "execution_count": 445,
   "metadata": {},
   "outputs": [
    {
     "name": "stdout",
     "output_type": "stream",
     "text": [
      "Passengers that survived: 342 and the ones that did not: 549\n",
      "****************************************\n",
      "Males that survived: 109 and the ones that did not: 468\n",
      "****************************************\n",
      "females that survived: 233 and the ones that did not: 81\n"
     ]
    }
   ],
   "source": [
    "# Print amount of survived and not survived passengers\n",
    "# Print the amount of passengers that survived and not survived\n",
    "survival_counts = df_train.groupby('Survived').size()\n",
    "print(f'Passengers that survived: {survival_counts[1]} and the ones that did not: {survival_counts[0]}')\n",
    "print('*'*40)\n",
    "\n",
    "# Filter the dataset to include only men\n",
    "men = df_train[df_train['Sex'] == 'male']\n",
    "# Group by 'Survived' and count the number of men who survived and not survived\n",
    "men_survival_counts = men.groupby('Survived').size()\n",
    "print(f'Males that survived: {men_survival_counts[1]} and the ones that did not: {men_survival_counts[0]}')\n",
    "print('*'*40)\n",
    "female = df_train[df_train['Sex'] == 'female']\n",
    "female_survival_counts = female.groupby('Survived').size()\n",
    "print(f'females that survived: {female_survival_counts[1]} and the ones that did not: {female_survival_counts[0]}')"
   ]
  },
  {
   "cell_type": "markdown",
   "metadata": {},
   "source": [
    "---\n",
    "## Análisis Exploratorio de Datos"
   ]
  },
  {
   "cell_type": "code",
   "execution_count": 446,
   "metadata": {},
   "outputs": [
    {
     "name": "stdout",
     "output_type": "stream",
     "text": [
      "PassengerId     0.000000\n",
      "Survived        0.000000\n",
      "Pclass          0.000000\n",
      "Name            0.000000\n",
      "Sex             0.000000\n",
      "Age            19.865320\n",
      "SibSp           0.000000\n",
      "Parch           0.000000\n",
      "Ticket          0.000000\n",
      "Fare            0.000000\n",
      "Cabin          77.104377\n",
      "Embarked        0.224467\n",
      "dtype: float64\n",
      "**************************************************\n",
      "PassengerId     0.000000\n",
      "Pclass          0.000000\n",
      "Name            0.000000\n",
      "Sex             0.000000\n",
      "Age            20.574163\n",
      "SibSp           0.000000\n",
      "Parch           0.000000\n",
      "Ticket          0.000000\n",
      "Fare            0.239234\n",
      "Cabin          78.229665\n",
      "Embarked        0.000000\n",
      "dtype: float64\n"
     ]
    }
   ],
   "source": [
    "# Get missing percentage per column in df_train\n",
    "missing_values = df_train.isnull().mean() * 100\n",
    "print(missing_values)\n",
    "\n",
    "print('*'*50)\n",
    "\n",
    "# Get missing percentage per column in df_test\n",
    "missing_values_test = df_test.isnull().mean() * 100\n",
    "print(missing_values_test)"
   ]
  },
  {
   "cell_type": "markdown",
   "metadata": {},
   "source": [
    "---"
   ]
  },
  {
   "cell_type": "markdown",
   "metadata": {},
   "source": [
    "## Imputación de edades faltantes a través del promedio del título"
   ]
  },
  {
   "cell_type": "code",
   "execution_count": 447,
   "metadata": {},
   "outputs": [
    {
     "name": "stdout",
     "output_type": "stream",
     "text": [
      "Survived    0.0\n",
      "Pclass      0.0\n",
      "Name        0.0\n",
      "Sex         0.0\n",
      "Age         0.0\n",
      "SibSp       0.0\n",
      "Parch       0.0\n",
      "Ticket      0.0\n",
      "Fare        0.0\n",
      "Embarked    0.0\n",
      "dtype: float64\n",
      "**************************************************\n",
      "PassengerId    0.0\n",
      "Pclass         0.0\n",
      "Name           0.0\n",
      "Sex            0.0\n",
      "Age            0.0\n",
      "SibSp          0.0\n",
      "Parch          0.0\n",
      "Ticket         0.0\n",
      "Fare           0.0\n",
      "Embarked       0.0\n",
      "dtype: float64\n"
     ]
    }
   ],
   "source": [
    "# Obtain the Title from the Name column\n",
    "df_train['Title'] = df_train['Name'].str.extract(' ([A-Za-z]+)\\.', expand=False)\n",
    "\n",
    "# Obtain the average age per title\n",
    "average_age_per_title = df_train.groupby('Title')['Age'].mean()\n",
    "\n",
    "# Fill missing values in the Age column with the average age per title with a random number between a standard deviation of 1\n",
    "for title in average_age_per_title.index:\n",
    "    df_train.loc[(df_train['Age'].isnull()) & (df_train['Title'] == title), 'Age'] = average_age_per_title[title] + df_train['Age'].std()\n",
    "\n",
    "# Round the age to the nearest integer\n",
    "df_train['Age'] = df_train['Age'].round()\n",
    "\n",
    "# Repeat the same process for the test dataset\n",
    "df_test['Title'] = df_test['Name'].str.extract(' ([A-Za-z]+)\\.', expand=False)\n",
    "average_age_per_title_test = df_test.groupby('Title')['Age'].mean()\n",
    "for title in average_age_per_title_test.index:\n",
    "    df_test.loc[(df_test['Age'].isnull()) & (df_test['Title'] == title), 'Age'] = average_age_per_title_test[title] + df_test['Age'].std()\n",
    "df_test['Age'] = df_test['Age'].round()\n",
    "\n",
    "# Repeat the same process for the test dataset using the train average age per title\n",
    "for title in average_age_per_title.index:\n",
    "    df_test.loc[(df_test['Age'].isnull()) & (df_test['Title'] == title), 'Age'] = average_age_per_title[title] + df_test['Age'].std()\n",
    "df_test['Age'] = df_test['Age'].round()\n",
    "\n",
    "# Drop cabin column\n",
    "df_train = df_train.drop(columns=['Cabin'])\n",
    "df_test = df_test.drop(columns=['Cabin'])\n",
    "\n",
    "# Drop embarked rows with missing values in df_train\n",
    "df_train = df_train.dropna(subset=['Embarked'])\n",
    "\n",
    "# Drop rows with missing values in Fare column in df_test\n",
    "df_test = df_test.dropna(subset=['Fare'])\n",
    "\n",
    "# Drop Title columns in both datasets\n",
    "df_train = df_train.drop(columns=['Title'])\n",
    "df_test = df_test.drop(columns=['Title'])\n",
    "\n",
    "# Drop 'PassengerId' in df_train\n",
    "df_train = df_train.drop(columns=['PassengerId'])\n",
    "\n",
    "# Get missing percentage per column in df_train\n",
    "missing_values = df_train.isnull().mean() * 100\n",
    "print(missing_values)\n",
    "\n",
    "print('*'*50)\n",
    "\n",
    "# Get missing percentage per column in df_test\n",
    "missing_values_test = df_test.isnull().mean() * 100\n",
    "print(missing_values_test)"
   ]
  },
  {
   "cell_type": "code",
   "execution_count": 448,
   "metadata": {},
   "outputs": [
    {
     "name": "stdout",
     "output_type": "stream",
     "text": [
      "10\n",
      "10\n"
     ]
    }
   ],
   "source": [
    "# Give me the amount of columns in df_train and df_test\n",
    "print(df_train.shape[1])\n",
    "print(df_test.shape[1])"
   ]
  },
  {
   "cell_type": "markdown",
   "metadata": {},
   "source": [
    "---"
   ]
  },
  {
   "cell_type": "markdown",
   "metadata": {},
   "source": [
    "# Ticket information feature engineering"
   ]
  },
  {
   "cell_type": "code",
   "execution_count": 449,
   "metadata": {},
   "outputs": [],
   "source": [
    "df_train['Ticket'] = df_train['Ticket'].replace('LINE', 'LINE 0')\n",
    "df_test['Ticket'] = df_test['Ticket'].replace('LINE', 'LINE 0')\n",
    "\n",
    "# Parse Ticket feature\n",
    "df_train['Ticket'] = df_train['Ticket'].apply(lambda x: x.replace('.','').replace('/','').lower())\n",
    "def get_prefix(ticket):\n",
    "    lead = ticket.split(' ')[0][0]\n",
    "    if lead.isalpha():\n",
    "        return ticket.split(' ')[0]\n",
    "    else:\n",
    "        return 'NoPrefix'\n",
    "    \n",
    "df_train['TicketPrefix'] = df_train['Ticket'].apply(lambda x: get_prefix(x))\n",
    "\n",
    "# Separate all ticket components\n",
    "df_train['Ticket_Number'] = df_train['Ticket'].apply(lambda x: int(x.split(' ')[-1])//1)\n",
    "df_train['Ticket_Length'] = df_train['Ticket_Number'].apply(lambda x : len(str(x)))\n",
    "df_train['Ticket_FirstDigit'] = df_train['Ticket_Number'].apply(lambda x : int(str(x)[0]))\n",
    "df_train['Ticket_Group'] = df_train['Ticket'].apply(lambda x: str(int(x.split(' ')[-1])//10))\n",
    "\n",
    "# Apply al separations for test data\n",
    "df_test['Ticket'] = df_test['Ticket'].apply(lambda x: x.replace('.','').replace('/','').lower())\n",
    "df_test['TicketPrefix'] = df_test['Ticket'].apply(lambda x: get_prefix(x))\n",
    "df_test['Ticket_Number'] = df_test['Ticket'].apply(lambda x: int(x.split(' ')[-1])//1)\n",
    "df_test['Ticket_Length'] = df_test['Ticket_Number'].apply(lambda x : len(str(x)))\n",
    "df_test['Ticket_FirstDigit'] = df_test['Ticket_Number'].apply(lambda x : int(str(x)[0]))\n",
    "df_test['Ticket_Group'] = df_test['Ticket'].apply(lambda x: str(int(x.split(' ')[-1])//10))\n",
    "\n",
    "# Drop Ticket, Ticket_Number, Ticket_Length\n",
    "df_train = df_train.drop(columns=['Ticket', 'Ticket_Number', 'Ticket_Length'])\n",
    "df_test = df_test.drop(columns=['Ticket', 'Ticket_Number', 'Ticket_Length'])"
   ]
  },
  {
   "cell_type": "code",
   "execution_count": 450,
   "metadata": {},
   "outputs": [
    {
     "data": {
      "text/html": [
       "<div>\n",
       "<style scoped>\n",
       "    .dataframe tbody tr th:only-of-type {\n",
       "        vertical-align: middle;\n",
       "    }\n",
       "\n",
       "    .dataframe tbody tr th {\n",
       "        vertical-align: top;\n",
       "    }\n",
       "\n",
       "    .dataframe thead th {\n",
       "        text-align: right;\n",
       "    }\n",
       "</style>\n",
       "<table border=\"1\" class=\"dataframe\">\n",
       "  <thead>\n",
       "    <tr style=\"text-align: right;\">\n",
       "      <th>Ticket_FirstDigit</th>\n",
       "      <th>0</th>\n",
       "      <th>1</th>\n",
       "      <th>2</th>\n",
       "      <th>3</th>\n",
       "      <th>4</th>\n",
       "      <th>5</th>\n",
       "      <th>6</th>\n",
       "      <th>7</th>\n",
       "      <th>8</th>\n",
       "      <th>9</th>\n",
       "      <th>All</th>\n",
       "    </tr>\n",
       "    <tr>\n",
       "      <th>Pclass</th>\n",
       "      <th></th>\n",
       "      <th></th>\n",
       "      <th></th>\n",
       "      <th></th>\n",
       "      <th></th>\n",
       "      <th></th>\n",
       "      <th></th>\n",
       "      <th></th>\n",
       "      <th></th>\n",
       "      <th></th>\n",
       "      <th></th>\n",
       "    </tr>\n",
       "  </thead>\n",
       "  <tbody>\n",
       "    <tr>\n",
       "      <th>1</th>\n",
       "      <td>0</td>\n",
       "      <td>190</td>\n",
       "      <td>4</td>\n",
       "      <td>14</td>\n",
       "      <td>0</td>\n",
       "      <td>4</td>\n",
       "      <td>2</td>\n",
       "      <td>0</td>\n",
       "      <td>0</td>\n",
       "      <td>0</td>\n",
       "      <td>214</td>\n",
       "    </tr>\n",
       "    <tr>\n",
       "      <th>2</th>\n",
       "      <td>0</td>\n",
       "      <td>22</td>\n",
       "      <td>136</td>\n",
       "      <td>23</td>\n",
       "      <td>0</td>\n",
       "      <td>1</td>\n",
       "      <td>0</td>\n",
       "      <td>2</td>\n",
       "      <td>0</td>\n",
       "      <td>0</td>\n",
       "      <td>184</td>\n",
       "    </tr>\n",
       "    <tr>\n",
       "      <th>3</th>\n",
       "      <td>4</td>\n",
       "      <td>17</td>\n",
       "      <td>90</td>\n",
       "      <td>330</td>\n",
       "      <td>15</td>\n",
       "      <td>4</td>\n",
       "      <td>12</td>\n",
       "      <td>13</td>\n",
       "      <td>3</td>\n",
       "      <td>3</td>\n",
       "      <td>491</td>\n",
       "    </tr>\n",
       "    <tr>\n",
       "      <th>All</th>\n",
       "      <td>4</td>\n",
       "      <td>229</td>\n",
       "      <td>230</td>\n",
       "      <td>367</td>\n",
       "      <td>15</td>\n",
       "      <td>9</td>\n",
       "      <td>14</td>\n",
       "      <td>15</td>\n",
       "      <td>3</td>\n",
       "      <td>3</td>\n",
       "      <td>889</td>\n",
       "    </tr>\n",
       "  </tbody>\n",
       "</table>\n",
       "</div>"
      ],
      "text/plain": [
       "Ticket_FirstDigit  0    1    2    3   4  5   6   7  8  9  All\n",
       "Pclass                                                       \n",
       "1                  0  190    4   14   0  4   2   0  0  0  214\n",
       "2                  0   22  136   23   0  1   0   2  0  0  184\n",
       "3                  4   17   90  330  15  4  12  13  3  3  491\n",
       "All                4  229  230  367  15  9  14  15  3  3  889"
      ]
     },
     "execution_count": 450,
     "metadata": {},
     "output_type": "execute_result"
    }
   ],
   "source": [
    "pd.crosstab(df_train['Pclass'],df_train['Ticket_FirstDigit'],margins=True)"
   ]
  },
  {
   "cell_type": "code",
   "execution_count": 451,
   "metadata": {},
   "outputs": [
    {
     "name": "stdout",
     "output_type": "stream",
     "text": [
      "['a5' 'pc' 'stono2' 'NoPrefix' 'pp' 'ca' 'scparis' 'sca4' 'a4' 'sp' 'soc'\n",
      " 'wc' 'sotonoq' 'wep' 'stono' 'c' 'sop' 'fa' 'line' 'fcc' 'swpp' 'scow'\n",
      " 'ppp' 'sc' 'scah' 'as' 'sopp' 'fc' 'sotono2' 'casoton']\n"
     ]
    }
   ],
   "source": [
    "# Print the unique 'Prefix' in df_train\n",
    "print(df_train['TicketPrefix'].unique())"
   ]
  },
  {
   "cell_type": "code",
   "execution_count": 452,
   "metadata": {},
   "outputs": [
    {
     "name": "stdout",
     "output_type": "stream",
     "text": [
      "NoPrefix    659\n",
      "pc           60\n",
      "ca           41\n",
      "a5           21\n",
      "sotonoq      15\n",
      "stono        12\n",
      "scparis      11\n",
      "wc           10\n",
      "a4            7\n",
      "stono2        6\n",
      "soc           6\n",
      "fcc           5\n",
      "c             5\n",
      "line          4\n",
      "wep           3\n",
      "scah          3\n",
      "sopp          3\n",
      "pp            3\n",
      "sotono2       2\n",
      "swpp          2\n",
      "ppp           2\n",
      "fc            1\n",
      "as            1\n",
      "scow          1\n",
      "sc            1\n",
      "sp            1\n",
      "fa            1\n",
      "sop           1\n",
      "sca4          1\n",
      "casoton       1\n",
      "Name: TicketPrefix, dtype: int64\n"
     ]
    }
   ],
   "source": [
    "# Count the frequency of each 'Prefix' in df_train\n",
    "print(df_train['TicketPrefix'].value_counts())"
   ]
  },
  {
   "cell_type": "markdown",
   "metadata": {},
   "source": [
    "---\n",
    "# Exploración de la columna de 'Sex' y su relación con la supervivencia"
   ]
  },
  {
   "cell_type": "code",
   "execution_count": 453,
   "metadata": {},
   "outputs": [],
   "source": [
    "# Generate a df of the df['Sex'] == 'male' and df['Survived'] == 1 \n",
    "male_survived = df_train[df_train['Sex'] == 'male']\n",
    "female_survived = df_train[df_train['Sex'] == 'female']"
   ]
  },
  {
   "cell_type": "markdown",
   "metadata": {},
   "source": [
    "---"
   ]
  },
  {
   "cell_type": "markdown",
   "metadata": {},
   "source": [
    "# Grupos SOLO, SMALL, MEDIUM, LARGE"
   ]
  },
  {
   "cell_type": "code",
   "execution_count": 454,
   "metadata": {},
   "outputs": [],
   "source": [
    "# Family_Count_Tr  = df_train['SibSp'] + df_train['Parch'] + 1\n",
    "# Family_Count_Ts  = df_test['SibSp'] + df_train['Parch'] + 1\n",
    "\n",
    "# def categorize_family_size(family_count):\n",
    "#     if family_count == 1:\n",
    "#         return 'ALONE'\n",
    "#     elif family_count in [2, 3, 4]:\n",
    "#         return 'SMALL'\n",
    "#     elif family_count in [5, 6]:\n",
    "#         return 'MEDIUM'\n",
    "#     elif family_count in [7, 8, 11]:\n",
    "#         return 'LARGE'\n",
    "#     else:\n",
    "#         return 'UNKNOWN'  # In case there are other sizes not covered\n",
    "\n",
    "# # Apply the function to create a new column\n",
    "# Family_Size_Tr= Family_Count_Tr .apply(categorize_family_size)\n",
    "# Family_Size_Ts= Family_Count_Ts.apply(categorize_family_size)\n",
    "\n",
    "# # Display the DataFrame with the new column\n",
    "# #print(Family_Size_Tr)\n",
    "\n",
    "# # Make a piovvottable grouped by the family size to analiz\n",
    "\n",
    "# df_test['Group_Size'] = Family_Size_Ts\n",
    "# df_train['Group_Size'] = Family_Size_Tr\n",
    "\n",
    "# df_test.head()\n",
    "\n",
    "# df_test['Group_Size',].hist()\n",
    "# plt.show()\n",
    "\n",
    "\n",
    "# # Create a figure and axis\n",
    "# plt.figure(figsize=(10, 6))\n",
    "\n",
    "# # Plot a histogram for the 'Survived' column grouped by 'Group_Size'\n",
    "# sns.histplot(data=df_train, x='Group_Size', hue='Survived', multiple='dodge', shrink=0.8)\n",
    "\n",
    "# # Set the title and labels\n",
    "# plt.title('Survival Distribution by Family Group Size')\n",
    "# plt.xlabel('Family Group Size')\n",
    "# plt.ylabel('Count')\n",
    "\n",
    "# # Show the plot\n",
    "# plt.show()"
   ]
  },
  {
   "cell_type": "markdown",
   "metadata": {},
   "source": [
    "---"
   ]
  },
  {
   "cell_type": "markdown",
   "metadata": {},
   "source": [
    "## Segment by age of passengers and using pivot tables to analyze the survival rate"
   ]
  },
  {
   "cell_type": "code",
   "execution_count": 455,
   "metadata": {},
   "outputs": [],
   "source": [
    "# Segment by age in intervals of 5 of passengers and using pivot tables to analyze the survival rate\n",
    "age_bins = [0, 5, 10, 15, 20, 25, 30, 35, 40, 45, 50, 55, 60, 65, 70, 75, 80, 85]\n",
    "age_labels = ['0-4', '5-9', '10-14', '15-19', '20-24', '25-29', '30-34', '35-39', '40-44', '45-49', '50-54', '55-59', '60-64', '65-69', '70-74', '75-79', '80+']\n",
    "\n",
    "df_train['AgeGroup'] = pd.cut(df_train['Age'], bins=age_bins, labels=age_labels)\n",
    "df_test['AgeGroup'] = pd.cut(df_test['Age'], bins=age_bins, labels=age_labels)\n"
   ]
  },
  {
   "cell_type": "code",
   "execution_count": 456,
   "metadata": {},
   "outputs": [
    {
     "name": "stdout",
     "output_type": "stream",
     "text": [
      "AgeGroup       0-4       5-9     10-14      15-19      20-24      25-29  \\\n",
      "Sex                                                                       \n",
      "female    6.730769  3.205128  3.846154  10.897436  14.423077  11.858974   \n",
      "male      3.819444  1.736111  1.215278  11.631944  13.194444  12.673611   \n",
      "\n",
      "AgeGroup     30-34      35-39     40-44      45-49     50-54     55-59  \\\n",
      "Sex                                                                      \n",
      "female    9.294872  19.230769  5.769231   9.615385  2.564103  1.923077   \n",
      "male      9.895833   7.638889  4.687500  25.173611  2.777778  2.256944   \n",
      "\n",
      "AgeGroup     60-64     65-69     70-74     75-79  80+  \n",
      "Sex                                                    \n",
      "female    0.641026  0.000000  0.000000  0.000000  0.0  \n",
      "male      1.909722  0.694444  0.520833  0.173611  0.0  \n"
     ]
    }
   ],
   "source": [
    "# Paso 1: Contar las ocurrencias conjuntas de Group Age y Sex\n",
    "joint_counts = df_train.groupby(['Sex', 'AgeGroup']).size().unstack(fill_value=0)\n",
    "\n",
    "# Paso 2: Calcular la probabilidad condicional P(Group Age | Sex)\n",
    "conditional_probabilities = joint_counts.div(joint_counts.sum(axis=1), axis=0)\n",
    "print(conditional_probabilities*100)"
   ]
  },
  {
   "cell_type": "code",
   "execution_count": 457,
   "metadata": {},
   "outputs": [],
   "source": [
    "# Generar una columna donde sea el ['AgeGroup'] y el ['Sex'] en una sola columna\n",
    "df_train['AgeGroup_Sex'] = df_train['AgeGroup'].astype(str) + '_' + df_train['Sex']\n",
    "df_test['AgeGroup_Sex'] = df_test['AgeGroup'].astype(str) + '_' + df_test['Sex']\n"
   ]
  },
  {
   "cell_type": "code",
   "execution_count": 458,
   "metadata": {},
   "outputs": [
    {
     "name": "stdout",
     "output_type": "stream",
     "text": [
      "Sex     AgeGroup\n",
      "female  0-4          76.190476\n",
      "        5-9          30.000000\n",
      "        10-14        75.000000\n",
      "        15-19        73.529412\n",
      "        20-24        75.555556\n",
      "        25-29        72.972973\n",
      "        30-34        89.655172\n",
      "        35-39        68.333333\n",
      "        40-44        61.111111\n",
      "        45-49        80.000000\n",
      "        50-54       100.000000\n",
      "        55-59        83.333333\n",
      "        60-64       100.000000\n",
      "        65-69              NaN\n",
      "        70-74              NaN\n",
      "        75-79              NaN\n",
      "        80+                NaN\n",
      "male    0-4          63.636364\n",
      "        5-9          40.000000\n",
      "        10-14        28.571429\n",
      "        15-19        14.925373\n",
      "        20-24        10.526316\n",
      "        25-29        20.547945\n",
      "        30-34        26.315789\n",
      "        35-39        18.181818\n",
      "        40-44        22.222222\n",
      "        45-49        13.793103\n",
      "        50-54        12.500000\n",
      "        55-59        15.384615\n",
      "        60-64         9.090909\n",
      "        65-69         0.000000\n",
      "        70-74         0.000000\n",
      "        75-79       100.000000\n",
      "        80+                NaN\n",
      "dtype: float64\n"
     ]
    }
   ],
   "source": [
    "# Paso 1: Contar las ocurrencias conjuntas de Sex, Group Age y Survived\n",
    "joint_counts_survived = df_train.groupby(['Sex', 'AgeGroup', 'Survived']).size().unstack(fill_value=0)\n",
    "\n",
    "# Paso 2: Calcular la probabilidad condicional P(Survived = 1 | Sex, Group Age)\n",
    "survived_counts = joint_counts_survived[1]\n",
    "conditional_probabilities_survived = survived_counts.div(joint_counts_survived.sum(axis=1))\n",
    "print(conditional_probabilities_survived*100)"
   ]
  },
  {
   "cell_type": "code",
   "execution_count": 459,
   "metadata": {},
   "outputs": [
    {
     "name": "stdout",
     "output_type": "stream",
     "text": [
      "Index(['Survived', 'Pclass', 'Name', 'Sex', 'Age', 'SibSp', 'Parch', 'Fare',\n",
      "       'Embarked', 'TicketPrefix', 'Ticket_FirstDigit', 'Ticket_Group',\n",
      "       'AgeGroup', 'AgeGroup_Sex'],\n",
      "      dtype='object')\n"
     ]
    }
   ],
   "source": [
    "# Print df_train columns\n",
    "print(df_train.columns)"
   ]
  },
  {
   "cell_type": "code",
   "execution_count": 469,
   "metadata": {},
   "outputs": [
    {
     "data": {
      "image/png": "[encoded data removed]",
      "text/plain": [
       "<Figure size 1500x1000 with 6 Axes>"
      ]
     },
     "metadata": {},
     "output_type": "display_data"
    }
   ],
   "source": [
    "# Make a subplot of every column in df_train as index for the pivot table ordered by the survival rate\n",
    "df_train_analisis = df_train.drop(columns=['Name', 'Age', 'Survived', 'Fare', 'TicketPrefix', 'Ticket_FirstDigit', 'Ticket_Group', 'AgeGroup'])\n",
    "fig, axs = plt.subplots(2, 3, figsize=(15, 10))\n",
    "fig.suptitle('Survival Rate characteristics of Male passengers')\n",
    "\n",
    "for i, col in enumerate(df_train_analisis.columns):\n",
    "    # Create pivot table with counts for each survival status\n",
    "    pivot = df_train.pivot_table(index=col, columns='Survived', aggfunc='size', fill_value=0)\n",
    "    # Calculate the survival rate\n",
    "    pivot['Survival Rate'] = pivot[1] / (pivot[0] + pivot[1])\n",
    "    # Order the pivot table by the Survival Rate in ascending order\n",
    "    pivot = pivot.sort_values(by='Survival Rate', ascending=True)\n",
    "    # Plot the Survival Rate\n",
    "    pivot['Survival Rate'].plot(kind='bar', ax=axs[i//3, i%3], color='skyblue')\n",
    "    axs[i//3, i%3].set_title(f'Survival Rate by {col}')\n",
    "    axs[i//3, i%3].set_ylabel('Survival Rate')\n",
    "    axs[i//3, i%3].set_ylim(0, 1)\n",
    "    axs[i//3, i%3].grid(axis='y', linestyle='--', alpha=0.6)\n",
    "\n",
    "plt.tight_layout()\n",
    "plt.show()"
   ]
  }
 ],
 "metadata": {
  "kernelspec": {
   "display_name": "Python 3",
   "language": "python",
   "name": "python3"
  },
  "language_info": {
   "codemirror_mode": {
    "name": "ipython",
    "version": 3
   },
   "file_extension": ".py",
   "mimetype": "text/x-python",
   "name": "python",
   "nbconvert_exporter": "python",
   "pygments_lexer": "ipython3",
   "version": "3.11.2"
  }
 },
 "nbformat": 4,
 "nbformat_minor": 2
}
